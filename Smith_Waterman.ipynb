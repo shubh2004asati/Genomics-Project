{
 "cells": [
  {
   "cell_type": "markdown",
   "metadata": {},
   "source": [
    "## Initialization and Matrix Filling"
   ]
  },
  {
   "cell_type": "code",
   "execution_count": 25,
   "metadata": {},
   "outputs": [
    {
     "name": "stdout",
     "output_type": "stream",
     "text": [
      "[[ 0.  0.  0.  0.  0.  0.  0.  0.]\n",
      " [ 0.  2.  2.  2.  2.  2.  2.  2.]\n",
      " [ 0.  2.  3.  4.  4.  4.  4.  4.]\n",
      " [ 0.  2.  3.  4.  6.  6.  6.  6.]\n",
      " [ 0.  2.  3.  4.  6.  7.  7.  7.]\n",
      " [ 0.  2.  3.  5.  6.  7.  8.  8.]\n",
      " [ 0.  2.  4.  5.  6.  8.  9. 10.]\n",
      " [ 0.  2.  4.  5.  6.  8. 10. 11.]\n",
      " [ 0.  2.  4.  5.  6.  8. 10. 12.]] \n",
      "\n"
     ]
    }
   ],
   "source": [
    "import numpy as np\n",
    "\n",
    "## Testing for smaller sequences. Fails when priority is given to left gap\n",
    "# sequence_2 = \"CGTG\"\n",
    "# sequence_1 = \"GACT\"\n",
    "\n",
    "\n",
    "## Fails when priority is given to diagonal matching\n",
    "# sequence_1 = \"GACTGGCTAGTTCAGTCTGACTGGCTAGCTA\"\n",
    "# sequence_2 = \"GACTGCT\"\n",
    "\n",
    "sequence_1 = \"GCGACTTT\"\n",
    "sequence_2 = \"GTCGTTT\"\n",
    "\n",
    "main_matrix = np.zeros((len(sequence_1)+1,len(sequence_2)+1))\n",
    "match_checker_matrix = np.zeros((len(sequence_1),len(sequence_2)))\n",
    "\n",
    "# Defining the scoring matrix\n",
    "match_reward = 2\n",
    "mismatch_penalty = 1\n",
    "gap_penalty = 0\n",
    "\n",
    "# Initialising the match_checker_matrix which keeps tracks of all the matches\n",
    "for i in range(len(sequence_1)):\n",
    "    for j in range(len(sequence_2)):\n",
    "        if sequence_1[i] == sequence_2[j]:\n",
    "            match_checker_matrix[i][j]= match_reward\n",
    "        else:\n",
    "            match_checker_matrix[i][j]= mismatch_penalty\n",
    "\n",
    "#print(match_checker_matrix)\n",
    "\n",
    "#STEP 1 : INITIALISATION\n",
    "## Matrix is already initialised with zeroes so no need of initialistaion\n",
    "\n",
    "#STEP 2 : MATRIX FILLING\n",
    "for i in range(1,len(sequence_1)+1):\n",
    "    for j in range(1,len(sequence_2)+1):\n",
    "\n",
    "        # Matrix filling by comparing all three possible cases\n",
    "        # Converted all negative values to zero using the max function\n",
    "        main_matrix[i][j] = max(max(main_matrix[i][j-1]+ gap_penalty, 0), max(main_matrix[i-1][j]+gap_penalty, 0), max(main_matrix[i-1][j-1]+match_checker_matrix[i-1][j-1], 0))\n",
    "\n",
    "print(main_matrix, '\\n')"
   ]
  },
  {
   "cell_type": "markdown",
   "metadata": {},
   "source": [
    "## Traceback for Local Alignment"
   ]
  },
  {
   "cell_type": "code",
   "execution_count": 26,
   "metadata": {},
   "outputs": [
    {
     "name": "stdout",
     "output_type": "stream",
     "text": [
      "Algined Sequences:\n",
      "8 7\n",
      "G-CGACTTT\n",
      "GTCG--TTT\n"
     ]
    }
   ],
   "source": [
    "def traceback(s1, s2, x, y):\n",
    "\n",
    "    aligned_1 = ''\n",
    "    aligned_2 = ''\n",
    "\n",
    "    while (x > 0 and y > 0 and main_matrix[x][y] != 0):\n",
    "\n",
    "        if (x >0 and y > 0 and main_matrix[x][y] == main_matrix[x-1][y-1]+ match_checker_matrix[x-1][y-1]):\n",
    "\n",
    "            aligned_1 = sequence_1[x-1] + aligned_1\n",
    "            aligned_2 = sequence_2[y-1] + aligned_2\n",
    "\n",
    "            x = x - 1\n",
    "            y = y - 1\n",
    "\n",
    "        elif(x > 0 and main_matrix[x][y] == main_matrix[x-1][y] + gap_penalty):\n",
    "            aligned_1 = sequence_1[x-1] + aligned_1\n",
    "            aligned_2 = \"-\" + aligned_2\n",
    "\n",
    "            x = x -1\n",
    "        else:\n",
    "            aligned_1 = \"-\" + aligned_1\n",
    "            aligned_2 = sequence_2[y-1] + aligned_2\n",
    "\n",
    "            y = y - 1\n",
    "\n",
    "    return aligned_1, aligned_2\n",
    "\n",
    "\n",
    "max_value = np.max(main_matrix)\n",
    "max_positions = np.argwhere(main_matrix == max_value)\n",
    "#print(max_positions)\n",
    "\n",
    "for max_position in max_positions:\n",
    "    x, y = max_position\n",
    "    aligned_1, aligned_2 = traceback(sequence_1, sequence_2, x,y)\n",
    "    print(f'Algined Sequences:')\n",
    "    print(x,y)\n",
    "    print(aligned_1)\n",
    "    print(aligned_2)"
   ]
  },
  {
   "cell_type": "markdown",
   "metadata": {},
   "source": [
    "## Traceback for global alignment (Comparing with Needleman - Wunsch)"
   ]
  },
  {
   "cell_type": "code",
   "execution_count": 27,
   "metadata": {},
   "outputs": [],
   "source": [
    "aligned_1 = ''\n",
    "aligned_2 = ''\n",
    "\n",
    "ti = len(sequence_1)\n",
    "tj = len(sequence_2)"
   ]
  },
  {
   "cell_type": "markdown",
   "metadata": {},
   "source": [
    "### When diagonal matching or unmatching is giving priroity\n",
    "Which means in the case where all three values are zero, we take the diagonal value which results in a match or mismtach. But this gives inconsitent results in some cases."
   ]
  },
  {
   "cell_type": "code",
   "execution_count": 28,
   "metadata": {},
   "outputs": [],
   "source": [
    "while(ti > 0 and tj > 0):\n",
    "\n",
    "    # Comparing for gap from upper side\n",
    "    if(ti > 0 and max(main_matrix[ti][tj] == main_matrix[ti-1][tj] + gap_penalty,0)):\n",
    "        aligned_1 = sequence_1[ti-1] + aligned_1\n",
    "        aligned_2 = \"-\" + aligned_2\n",
    "\n",
    "        ti = ti -1\n",
    "\n",
    "    # Comparing for gap from left side\n",
    "    elif (tj > 0 and max(main_matrix[ti][tj] == main_matrix[ti][tj-1] + gap_penalty,0)):\n",
    "        aligned_1 = \"-\" + aligned_1\n",
    "        aligned_2 = sequence_2[tj-1] + aligned_2\n",
    "\n",
    "        tj = tj - 1\n",
    "\n",
    "    # Comparing for diagonal match or mismatch (Base case : given priority in case all three values are negative)\n",
    "    else:\n",
    "        aligned_1 = sequence_1[ti-1] + aligned_1\n",
    "        aligned_2 = sequence_2[tj-1] + aligned_2\n",
    "\n",
    "        ti = ti - 1\n",
    "        tj = tj - 1"
   ]
  },
  {
   "cell_type": "markdown",
   "metadata": {},
   "source": [
    "### When priority is given to the left gap\n",
    "Which means in the case where all three values are zero, we take the left value leading to a gap. But this gives inconsitent results in some cases."
   ]
  },
  {
   "cell_type": "code",
   "execution_count": 23,
   "metadata": {},
   "outputs": [],
   "source": [
    "while(ti > 0 and tj > 0):\n",
    "\n",
    "    if (ti > 0 and tj > 0 and max(main_matrix[ti][tj] == main_matrix[ti-1][tj-1] + match_checker_matrix[ti-1][tj-1],0)):\n",
    "\n",
    "        aligned_1 = sequence_1[ti-1] + aligned_1\n",
    "        aligned_2 = sequence_2[tj-1] + aligned_2\n",
    "\n",
    "        ti = ti - 1\n",
    "        tj = tj - 1\n",
    "\n",
    "    elif(ti > 0 and max(main_matrix[ti][tj] == main_matrix[ti-1][tj] + gap_penalty,0)):\n",
    "        aligned_1 = sequence_1[ti-1] + aligned_1\n",
    "        aligned_2 = \"-\" + aligned_2\n",
    "\n",
    "        ti = ti -1\n",
    "    else:\n",
    "        aligned_1 = \"-\" + aligned_1\n",
    "        aligned_2 = sequence_2[tj-1] + aligned_2\n",
    "\n",
    "        tj = tj - 1"
   ]
  },
  {
   "cell_type": "code",
   "execution_count": 29,
   "metadata": {},
   "outputs": [
    {
     "name": "stdout",
     "output_type": "stream",
     "text": [
      "G-CGACTTT\n",
      "GTCG--TTT\n"
     ]
    }
   ],
   "source": [
    "print(aligned_1)\n",
    "print(aligned_2)"
   ]
  },
  {
   "cell_type": "code",
   "execution_count": null,
   "metadata": {},
   "outputs": [],
   "source": []
  }
 ],
 "metadata": {
  "kernelspec": {
   "display_name": "Python 3",
   "language": "python",
   "name": "python3"
  },
  "language_info": {
   "codemirror_mode": {
    "name": "ipython",
    "version": 3
   },
   "file_extension": ".py",
   "mimetype": "text/x-python",
   "name": "python",
   "nbconvert_exporter": "python",
   "pygments_lexer": "ipython3",
   "version": "3.11.0"
  }
 },
 "nbformat": 4,
 "nbformat_minor": 2
}
